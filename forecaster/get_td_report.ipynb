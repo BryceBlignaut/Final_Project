{
 "cells": [
  {
   "cell_type": "code",
   "execution_count": 5,
   "metadata": {},
   "outputs": [],
   "source": [
    "import pandas as pd\n",
    "import xgboost\n",
    "import numpy as np\n",
    "import plotly as plt"
   ]
  },
  {
   "cell_type": "code",
   "execution_count": 6,
   "metadata": {},
   "outputs": [],
   "source": [
    "import datetime\n",
    "import requests\n",
    "import math\n",
    "import pandas as pd\n",
    "from calendar import monthrange\n",
    "\n",
    "def get_td_bearer_token() -> str:\n",
    "    \"\"\" Retrieves a bearer token from Team Dynamix to get access.     \n",
    "    Returns    \n",
    "    -------    \n",
    "    str        \n",
    "    a string containing the bearer token        \n",
    "    Example: \"Bearer: HsJKsdjj2iU8...\"    \n",
    "    \"\"\"    \n",
    "    username = \"automationrobot@byui.edu\"    \n",
    "    password = \"Robo493!\"    \n",
    "    auth_url = \"https://td.byui.edu/TDWebApi/api/auth\"    \n",
    "    data = {\"username\": username, \"password\": password}\n",
    "    response = requests.post(auth_url, data)\n",
    "    bearer_token = \"Bearer \" + response.text    \n",
    "    \n",
    "    return bearer_token"
   ]
  },
  {
   "cell_type": "code",
   "execution_count": 7,
   "metadata": {},
   "outputs": [],
   "source": [
    "def get_td_report(report_id : int, renaming = {}) -> pd.DataFrame:\n",
    "        \n",
    "    url = f'https://td.byui.edu/TDWebApi/api/reports/{report_id}?withData={True}&dataSortExpression='    \n",
    "    bearer_token = get_td_bearer_token()\n",
    "    authorization = {\"Authorization\": bearer_token}\n",
    "    response = requests.get(url, headers=authorization)\n",
    "    try:\n",
    "        response.raise_for_status()\n",
    "    except requests.exceptions.HTTPError as e:\n",
    "        if response.status_code == 401:\n",
    "           print(\"Warning: Repeated attempts to access TD will cause the account to lock.\")\n",
    "        raise    \n",
    "    report = format_attributes(pd.DataFrame(dict(response.json()).get(\"DataRows\")), renaming)\n",
    "    return report"
   ]
  },
  {
   "cell_type": "code",
   "execution_count": 8,
   "metadata": {},
   "outputs": [],
   "source": [
    "def format_attributes(report : pd.DataFrame, renaming : dict):\n",
    "    \"\"\" Gives names to the otherwise unknown attribute IDs on reports.         \n",
    "    Parameters    \n",
    "    ----------    \n",
    "    report : pd.DataFrame        \n",
    "    Any TeamDynamix report.    \n",
    "    Returns    -------    \n",
    "    pd.DataFrame        \n",
    "    the same TeamDynamix report with labeled column headers\n",
    "    \"\"\"    \n",
    "    report = report.rename(renaming, axis=1)\n",
    "    return report"
   ]
  },
  {
   "cell_type": "code",
   "execution_count": 9,
   "metadata": {},
   "outputs": [],
   "source": [
    "def get_date_instance(year, month, day_index, instance_number):\n",
    "    assert int(month), \"'month' has to be 'int' type\"    \n",
    "    assert int(day_index), \"'month' has to be 'int' type\"    \n",
    "    assert int(instance_number), \"'instance_number' has to be 'int' type\"    \n",
    "    curr_instance = 0    \n",
    "    days_in_month = monthrange(year, month)[1]\n",
    "    for day in range(1, days_in_month + 1):\n",
    "        if curr_instance == instance_number:\n",
    "            break        \n",
    "        else:\n",
    "            date = datetime.datetime(year, month, day)    \n",
    "            if date.weekday() == day_index:\n",
    "                curr_instance += 1    \n",
    "    return date"
   ]
  },
  {
   "cell_type": "code",
   "execution_count": 10,
   "metadata": {},
   "outputs": [],
   "source": [
    "def get_MT_datetime(row):\n",
    "    \"\"\"    row (string) : needs to be on format yyyy-mm-ddTHH:MM:SS    \n",
    "    \"\"\"    \n",
    "    date = datetime.datetime.strptime(row[:16], \"%Y-%m-%dT%H:%M\")\n",
    "\n",
    "    mdt_start = get_date_instance(date.year, 3, 6, 2) # second Sunday of March    \n",
    "    mdt_end = get_date_instance(date.year, 11, 6, 1)  # first Sunday of November\n",
    "\n",
    "    #if MDT subtract 6    \n",
    "    if mdt_start <= date < mdt_end:        \n",
    "        return date - datetime.timedelta(hours=6)\n",
    "    # else MST subtract 7    \n",
    "    else:\n",
    "        return date - datetime.timedelta(hours=7)"
   ]
  },
  {
   "cell_type": "code",
   "execution_count": 13,
   "metadata": {},
   "outputs": [
    {
     "name": "stdout",
     "output_type": "stream",
     "text": [
      "Warning: Repeated attempts to access TD will cause the account to lock.\n"
     ]
    },
    {
     "ename": "HTTPError",
     "evalue": "401 Client Error: Unauthorized for url: https://td.byui.edu/TDWebApi/api/reports/21883?withData=True&dataSortExpression=",
     "output_type": "error",
     "traceback": [
      "\u001b[1;31m---------------------------------------------------------------------------\u001b[0m",
      "\u001b[1;31mHTTPError\u001b[0m                                 Traceback (most recent call last)",
      "\u001b[1;32mc:\\Users\\Bryce Blignaut\\OneDrive - BYU-Idaho\\Documents\\Class Folders\\Winter_2023\\Final_Project\\forecaster\\forecaster.ipynb Cell 7\u001b[0m in \u001b[0;36m<cell line: 5>\u001b[1;34m()\u001b[0m\n\u001b[0;32m      <a href='vscode-notebook-cell:/c%3A/Users/Bryce%20Blignaut/OneDrive%20-%20BYU-Idaho/Documents/Class%20Folders/Winter_2023/Final_Project/forecaster/forecaster.ipynb#W6sZmlsZQ%3D%3D?line=0'>1</a>\u001b[0m rename_map \u001b[39m=\u001b[39m {\n\u001b[0;32m      <a href='vscode-notebook-cell:/c%3A/Users/Bryce%20Blignaut/OneDrive%20-%20BYU-Idaho/Documents/Class%20Folders/Winter_2023/Final_Project/forecaster/forecaster.ipynb#W6sZmlsZQ%3D%3D?line=1'>2</a>\u001b[0m             \u001b[39m'\u001b[39m\u001b[39m14231\u001b[39m\u001b[39m'\u001b[39m:\u001b[39m'\u001b[39m\u001b[39moffice_list\u001b[39m\u001b[39m'\u001b[39m            \n\u001b[0;32m      <a href='vscode-notebook-cell:/c%3A/Users/Bryce%20Blignaut/OneDrive%20-%20BYU-Idaho/Documents/Class%20Folders/Winter_2023/Final_Project/forecaster/forecaster.ipynb#W6sZmlsZQ%3D%3D?line=2'>3</a>\u001b[0m             }\n\u001b[1;32m----> <a href='vscode-notebook-cell:/c%3A/Users/Bryce%20Blignaut/OneDrive%20-%20BYU-Idaho/Documents/Class%20Folders/Winter_2023/Final_Project/forecaster/forecaster.ipynb#W6sZmlsZQ%3D%3D?line=4'>5</a>\u001b[0m df \u001b[39m=\u001b[39m get_td_report(\u001b[39m21883\u001b[39;49m, rename_map)\n\u001b[0;32m      <a href='vscode-notebook-cell:/c%3A/Users/Bryce%20Blignaut/OneDrive%20-%20BYU-Idaho/Documents/Class%20Folders/Winter_2023/Final_Project/forecaster/forecaster.ipynb#W6sZmlsZQ%3D%3D?line=5'>6</a>\u001b[0m df[\u001b[39m'\u001b[39m\u001b[39mdate\u001b[39m\u001b[39m'\u001b[39m] \u001b[39m=\u001b[39m df\u001b[39m.\u001b[39mapply(\u001b[39mlambda\u001b[39;00m row : get_MT_datetime(row[\u001b[39m'\u001b[39m\u001b[39mCreatedDate\u001b[39m\u001b[39m'\u001b[39m]), axis\u001b[39m=\u001b[39m\u001b[39m1\u001b[39m)\n\u001b[0;32m      <a href='vscode-notebook-cell:/c%3A/Users/Bryce%20Blignaut/OneDrive%20-%20BYU-Idaho/Documents/Class%20Folders/Winter_2023/Final_Project/forecaster/forecaster.ipynb#W6sZmlsZQ%3D%3D?line=6'>7</a>\u001b[0m df\u001b[39m.\u001b[39mhead()\n",
      "\u001b[1;32mc:\\Users\\Bryce Blignaut\\OneDrive - BYU-Idaho\\Documents\\Class Folders\\Winter_2023\\Final_Project\\forecaster\\forecaster.ipynb Cell 7\u001b[0m in \u001b[0;36mget_td_report\u001b[1;34m(report_id, renaming)\u001b[0m\n\u001b[0;32m      <a href='vscode-notebook-cell:/c%3A/Users/Bryce%20Blignaut/OneDrive%20-%20BYU-Idaho/Documents/Class%20Folders/Winter_2023/Final_Project/forecaster/forecaster.ipynb#W6sZmlsZQ%3D%3D?line=5'>6</a>\u001b[0m response \u001b[39m=\u001b[39m requests\u001b[39m.\u001b[39mget(url, headers\u001b[39m=\u001b[39mauthorization)\n\u001b[0;32m      <a href='vscode-notebook-cell:/c%3A/Users/Bryce%20Blignaut/OneDrive%20-%20BYU-Idaho/Documents/Class%20Folders/Winter_2023/Final_Project/forecaster/forecaster.ipynb#W6sZmlsZQ%3D%3D?line=6'>7</a>\u001b[0m \u001b[39mtry\u001b[39;00m:\n\u001b[1;32m----> <a href='vscode-notebook-cell:/c%3A/Users/Bryce%20Blignaut/OneDrive%20-%20BYU-Idaho/Documents/Class%20Folders/Winter_2023/Final_Project/forecaster/forecaster.ipynb#W6sZmlsZQ%3D%3D?line=7'>8</a>\u001b[0m     response\u001b[39m.\u001b[39;49mraise_for_status()\n\u001b[0;32m      <a href='vscode-notebook-cell:/c%3A/Users/Bryce%20Blignaut/OneDrive%20-%20BYU-Idaho/Documents/Class%20Folders/Winter_2023/Final_Project/forecaster/forecaster.ipynb#W6sZmlsZQ%3D%3D?line=8'>9</a>\u001b[0m \u001b[39mexcept\u001b[39;00m requests\u001b[39m.\u001b[39mexceptions\u001b[39m.\u001b[39mHTTPError \u001b[39mas\u001b[39;00m e:\n\u001b[0;32m     <a href='vscode-notebook-cell:/c%3A/Users/Bryce%20Blignaut/OneDrive%20-%20BYU-Idaho/Documents/Class%20Folders/Winter_2023/Final_Project/forecaster/forecaster.ipynb#W6sZmlsZQ%3D%3D?line=9'>10</a>\u001b[0m     \u001b[39mif\u001b[39;00m response\u001b[39m.\u001b[39mstatus_code \u001b[39m==\u001b[39m \u001b[39m401\u001b[39m:\n",
      "File \u001b[1;32mc:\\Users\\Bryce Blignaut\\AppData\\Local\\Programs\\Python\\Python310\\lib\\site-packages\\requests\\models.py:960\u001b[0m, in \u001b[0;36mResponse.raise_for_status\u001b[1;34m(self)\u001b[0m\n\u001b[0;32m    957\u001b[0m     http_error_msg \u001b[39m=\u001b[39m \u001b[39mu\u001b[39m\u001b[39m'\u001b[39m\u001b[39m%s\u001b[39;00m\u001b[39m Server Error: \u001b[39m\u001b[39m%s\u001b[39;00m\u001b[39m for url: \u001b[39m\u001b[39m%s\u001b[39;00m\u001b[39m'\u001b[39m \u001b[39m%\u001b[39m (\u001b[39mself\u001b[39m\u001b[39m.\u001b[39mstatus_code, reason, \u001b[39mself\u001b[39m\u001b[39m.\u001b[39murl)\n\u001b[0;32m    959\u001b[0m \u001b[39mif\u001b[39;00m http_error_msg:\n\u001b[1;32m--> 960\u001b[0m     \u001b[39mraise\u001b[39;00m HTTPError(http_error_msg, response\u001b[39m=\u001b[39m\u001b[39mself\u001b[39m)\n",
      "\u001b[1;31mHTTPError\u001b[0m: 401 Client Error: Unauthorized for url: https://td.byui.edu/TDWebApi/api/reports/21883?withData=True&dataSortExpression="
     ]
    }
   ],
   "source": [
    "rename_map = {\n",
    "            '14231':'office_list'            \n",
    "            }\n",
    "\n",
    "df = get_td_report(21883, rename_map)\n",
    "df['date'] = df.apply(lambda row : get_MT_datetime(row['CreatedDate']), axis=1)\n",
    "df.head()"
   ]
  }
 ],
 "metadata": {
  "kernelspec": {
   "display_name": "Python 3",
   "language": "python",
   "name": "python3"
  },
  "language_info": {
   "codemirror_mode": {
    "name": "ipython",
    "version": 3
   },
   "file_extension": ".py",
   "mimetype": "text/x-python",
   "name": "python",
   "nbconvert_exporter": "python",
   "pygments_lexer": "ipython3",
   "version": "3.10.3"
  },
  "orig_nbformat": 4
 },
 "nbformat": 4,
 "nbformat_minor": 2
}
